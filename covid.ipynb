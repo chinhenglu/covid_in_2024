{
 "cells": [
  {
   "cell_type": "markdown",
   "id": "c45a4a53-544e-40dd-82b2-40bfdfae379f",
   "metadata": {},
   "source": [
    "# Covid-19 in 2024"
   ]
  },
  {
   "cell_type": "code",
   "execution_count": 1,
   "id": "1ea250bc-301e-4bc3-8286-61f69de0b8ce",
   "metadata": {},
   "outputs": [],
   "source": [
    "import numpy as np\n",
    "import pandas as pd\n",
    "import matplotlib.pyplot as plt\n",
    "import seaborn as sns\n",
    "# import re\n",
    "# import os\n",
    "# import zipfile\n",
    "# from io import BytesIO, StringIO\n",
    "# import pprint\n",
    "# from google.colab import drive\n",
    "# import operator\n",
    "# drive.mount('/content/drive')"
   ]
  },
  {
   "cell_type": "markdown",
   "id": "d75ecc1e-de4c-4fba-a6b1-3077fea6b761",
   "metadata": {},
   "source": [
    "https://covid.cdc.gov/covid-data-tracker/#datatracker-home\n",
    "\\\n",
    "https://data.cdc.gov/Public-Health-Surveillance/NWSS-Public-SARS-CoV-2-Wastewater-Metric-Data/2ew6-ywp6/about_data\n",
    "\\\n",
    "https://www.today.com/health/coronavirus/covid-wastewater-monitoring-rcna143158\n",
    "\\\n",
    "https://www.usatoday.com/story/graphics/2024/01/16/covid-19-virus-wastewater-levels-increase/72189122007/\n"
   ]
  },
  {
   "cell_type": "code",
   "execution_count": 2,
   "id": "08f79784-756e-417c-8554-475926653a26",
   "metadata": {
    "scrolled": true
   },
   "outputs": [],
   "source": [
    "# !ls"
   ]
  },
  {
   "cell_type": "code",
   "execution_count": 20,
   "id": "bdfc7677-a8dc-4ac3-9ec0-a5256adba796",
   "metadata": {},
   "outputs": [
    {
     "data": {
      "text/html": [
       "<div>\n",
       "<style scoped>\n",
       "    .dataframe tbody tr th:only-of-type {\n",
       "        vertical-align: middle;\n",
       "    }\n",
       "\n",
       "    .dataframe tbody tr th {\n",
       "        vertical-align: top;\n",
       "    }\n",
       "\n",
       "    .dataframe thead th {\n",
       "        text-align: right;\n",
       "    }\n",
       "</style>\n",
       "<table border=\"1\" class=\"dataframe\">\n",
       "  <thead>\n",
       "    <tr style=\"text-align: right;\">\n",
       "      <th></th>\n",
       "      <th>wwtp_jurisdiction</th>\n",
       "      <th>wwtp_id</th>\n",
       "      <th>reporting_jurisdiction</th>\n",
       "      <th>sample_location</th>\n",
       "      <th>sample_location_specify</th>\n",
       "      <th>key_plot_id</th>\n",
       "      <th>county_names</th>\n",
       "      <th>county_fips</th>\n",
       "      <th>population_served</th>\n",
       "      <th>date_start</th>\n",
       "      <th>date_end</th>\n",
       "      <th>ptc_15d</th>\n",
       "      <th>detect_prop_15d</th>\n",
       "      <th>percentile</th>\n",
       "      <th>sampling_prior</th>\n",
       "      <th>first_sample_date</th>\n",
       "    </tr>\n",
       "  </thead>\n",
       "  <tbody>\n",
       "    <tr>\n",
       "      <th>0</th>\n",
       "      <td>South Carolina</td>\n",
       "      <td>2564</td>\n",
       "      <td>South Carolina</td>\n",
       "      <td>Treatment plant</td>\n",
       "      <td>NaN</td>\n",
       "      <td>CDC_VERILY_sc_2564_Treatment plant_post grit r...</td>\n",
       "      <td>Horry</td>\n",
       "      <td>45051</td>\n",
       "      <td>12000</td>\n",
       "      <td>2023-12-19</td>\n",
       "      <td>2024-01-02</td>\n",
       "      <td>NaN</td>\n",
       "      <td>100.0</td>\n",
       "      <td>71.0</td>\n",
       "      <td>no</td>\n",
       "      <td>2024-01-02</td>\n",
       "    </tr>\n",
       "    <tr>\n",
       "      <th>1</th>\n",
       "      <td>South Carolina</td>\n",
       "      <td>2564</td>\n",
       "      <td>South Carolina</td>\n",
       "      <td>Treatment plant</td>\n",
       "      <td>NaN</td>\n",
       "      <td>CDC_VERILY_sc_2564_Treatment plant_post grit r...</td>\n",
       "      <td>Horry</td>\n",
       "      <td>45051</td>\n",
       "      <td>12000</td>\n",
       "      <td>2023-12-20</td>\n",
       "      <td>2024-01-03</td>\n",
       "      <td>NaN</td>\n",
       "      <td>100.0</td>\n",
       "      <td>71.0</td>\n",
       "      <td>no</td>\n",
       "      <td>2024-01-02</td>\n",
       "    </tr>\n",
       "    <tr>\n",
       "      <th>2</th>\n",
       "      <td>South Carolina</td>\n",
       "      <td>2564</td>\n",
       "      <td>South Carolina</td>\n",
       "      <td>Treatment plant</td>\n",
       "      <td>NaN</td>\n",
       "      <td>CDC_VERILY_sc_2564_Treatment plant_post grit r...</td>\n",
       "      <td>Horry</td>\n",
       "      <td>45051</td>\n",
       "      <td>12000</td>\n",
       "      <td>2023-12-21</td>\n",
       "      <td>2024-01-04</td>\n",
       "      <td>-97.0</td>\n",
       "      <td>100.0</td>\n",
       "      <td>65.0</td>\n",
       "      <td>no</td>\n",
       "      <td>2024-01-02</td>\n",
       "    </tr>\n",
       "    <tr>\n",
       "      <th>3</th>\n",
       "      <td>South Carolina</td>\n",
       "      <td>2564</td>\n",
       "      <td>South Carolina</td>\n",
       "      <td>Treatment plant</td>\n",
       "      <td>NaN</td>\n",
       "      <td>CDC_VERILY_sc_2564_Treatment plant_post grit r...</td>\n",
       "      <td>Horry</td>\n",
       "      <td>45051</td>\n",
       "      <td>12000</td>\n",
       "      <td>2023-12-22</td>\n",
       "      <td>2024-01-05</td>\n",
       "      <td>-97.0</td>\n",
       "      <td>100.0</td>\n",
       "      <td>65.0</td>\n",
       "      <td>no</td>\n",
       "      <td>2024-01-02</td>\n",
       "    </tr>\n",
       "    <tr>\n",
       "      <th>4</th>\n",
       "      <td>South Carolina</td>\n",
       "      <td>2564</td>\n",
       "      <td>South Carolina</td>\n",
       "      <td>Treatment plant</td>\n",
       "      <td>NaN</td>\n",
       "      <td>CDC_VERILY_sc_2564_Treatment plant_post grit r...</td>\n",
       "      <td>Horry</td>\n",
       "      <td>45051</td>\n",
       "      <td>12000</td>\n",
       "      <td>2023-12-23</td>\n",
       "      <td>2024-01-06</td>\n",
       "      <td>-97.0</td>\n",
       "      <td>100.0</td>\n",
       "      <td>65.0</td>\n",
       "      <td>no</td>\n",
       "      <td>2024-01-02</td>\n",
       "    </tr>\n",
       "  </tbody>\n",
       "</table>\n",
       "</div>"
      ],
      "text/plain": [
       "  wwtp_jurisdiction  wwtp_id reporting_jurisdiction  sample_location  \\\n",
       "0    South Carolina     2564         South Carolina  Treatment plant   \n",
       "1    South Carolina     2564         South Carolina  Treatment plant   \n",
       "2    South Carolina     2564         South Carolina  Treatment plant   \n",
       "3    South Carolina     2564         South Carolina  Treatment plant   \n",
       "4    South Carolina     2564         South Carolina  Treatment plant   \n",
       "\n",
       "   sample_location_specify                                        key_plot_id  \\\n",
       "0                      NaN  CDC_VERILY_sc_2564_Treatment plant_post grit r...   \n",
       "1                      NaN  CDC_VERILY_sc_2564_Treatment plant_post grit r...   \n",
       "2                      NaN  CDC_VERILY_sc_2564_Treatment plant_post grit r...   \n",
       "3                      NaN  CDC_VERILY_sc_2564_Treatment plant_post grit r...   \n",
       "4                      NaN  CDC_VERILY_sc_2564_Treatment plant_post grit r...   \n",
       "\n",
       "  county_names county_fips  population_served date_start   date_end  ptc_15d  \\\n",
       "0        Horry       45051              12000 2023-12-19 2024-01-02      NaN   \n",
       "1        Horry       45051              12000 2023-12-20 2024-01-03      NaN   \n",
       "2        Horry       45051              12000 2023-12-21 2024-01-04    -97.0   \n",
       "3        Horry       45051              12000 2023-12-22 2024-01-05    -97.0   \n",
       "4        Horry       45051              12000 2023-12-23 2024-01-06    -97.0   \n",
       "\n",
       "   detect_prop_15d  percentile sampling_prior first_sample_date  \n",
       "0            100.0        71.0             no        2024-01-02  \n",
       "1            100.0        71.0             no        2024-01-02  \n",
       "2            100.0        65.0             no        2024-01-02  \n",
       "3            100.0        65.0             no        2024-01-02  \n",
       "4            100.0        65.0             no        2024-01-02  "
      ]
     },
     "execution_count": 20,
     "metadata": {},
     "output_type": "execute_result"
    }
   ],
   "source": [
    "df = pd.read_csv('NWSS_Public_SARS-CoV-2_Wastewater_Metric_Data_20240316.csv')\n",
    "df['date_start'] = pd.to_datetime(df['date_start'])\n",
    "df['date_end'] = pd.to_datetime(df['date_end'])\n",
    "df['first_sample_date'] = pd.to_datetime(df['first_sample_date'])\n",
    "df.head()"
   ]
  },
  {
   "cell_type": "code",
   "execution_count": 21,
   "id": "21ef22c4-4afc-4e3d-a88a-551c4c9eafdf",
   "metadata": {},
   "outputs": [
    {
     "name": "stdout",
     "output_type": "stream",
     "text": [
      "<class 'pandas.core.frame.DataFrame'>\n",
      "RangeIndex: 680893 entries, 0 to 680892\n",
      "Data columns (total 16 columns):\n",
      " #   Column                   Non-Null Count   Dtype         \n",
      "---  ------                   --------------   -----         \n",
      " 0   wwtp_jurisdiction        680893 non-null  object        \n",
      " 1   wwtp_id                  680893 non-null  int64         \n",
      " 2   reporting_jurisdiction   680893 non-null  object        \n",
      " 3   sample_location          680893 non-null  object        \n",
      " 4   sample_location_specify  42901 non-null   float64       \n",
      " 5   key_plot_id              680893 non-null  object        \n",
      " 6   county_names             680893 non-null  object        \n",
      " 7   county_fips              680893 non-null  object        \n",
      " 8   population_served        680893 non-null  int64         \n",
      " 9   date_start               680893 non-null  datetime64[ns]\n",
      " 10  date_end                 680893 non-null  datetime64[ns]\n",
      " 11  ptc_15d                  627026 non-null  float64       \n",
      " 12  detect_prop_15d          659862 non-null  float64       \n",
      " 13  percentile               616570 non-null  float64       \n",
      " 14  sampling_prior           680893 non-null  object        \n",
      " 15  first_sample_date        680893 non-null  datetime64[ns]\n",
      "dtypes: datetime64[ns](3), float64(4), int64(2), object(7)\n",
      "memory usage: 83.1+ MB\n"
     ]
    }
   ],
   "source": [
    "df.info()"
   ]
  },
  {
   "cell_type": "code",
   "execution_count": 22,
   "id": "5afc01d2-ca9f-4ff2-85f5-5f1ad5fd57d2",
   "metadata": {
    "scrolled": true
   },
   "outputs": [
    {
     "name": "stdout",
     "output_type": "stream",
     "text": [
      "(680893, 16)\n",
      "2020-06-21 00:00:00 2024-02-27 00:00:00\n",
      "2020-07-05 00:00:00 2024-03-12 00:00:00\n"
     ]
    }
   ],
   "source": [
    "print(df.shape)\n",
    "print(min(df.date_start),max(df.date_start))\n",
    "print(min(df.date_end), max(df.date_end))"
   ]
  },
  {
   "cell_type": "code",
   "execution_count": 23,
   "id": "7f9acff7-f3a4-426a-9c69-a95bfcfbc762",
   "metadata": {},
   "outputs": [
    {
     "data": {
      "text/plain": [
       "(8642, 16)"
      ]
     },
     "execution_count": 23,
     "metadata": {},
     "output_type": "execute_result"
    }
   ],
   "source": [
    "# filter to 2024 data and check the shape again\n",
    "df = df[ (df['date_start']>= '2024-01-01') & (df['reporting_jurisdiction'] == 'New York')]\n",
    "df.shape"
   ]
  },
  {
   "cell_type": "code",
   "execution_count": 24,
   "id": "52f13b66-615b-41b4-9d27-f7e18266561d",
   "metadata": {},
   "outputs": [
    {
     "data": {
      "text/plain": [
       "(array([3303., 1165., 1067.,  360.]),\n",
       " array([-100.,  -50.,    0.,   50.,  100.]),\n",
       " <BarContainer object of 4 artists>)"
      ]
     },
     "execution_count": 24,
     "metadata": {},
     "output_type": "execute_result"
    },
    {
     "data": {
      "image/png": "[encoded data removed]",
      "text/plain": [
       "<Figure size 640x480 with 1 Axes>"
      ]
     },
     "metadata": {},
     "output_type": "display_data"
    }
   ],
   "source": [
    "# understand the key metrics\n",
    "plt.hist(df['ptc_15d'],bins= [-100, -50, 0, 50, 100])"
   ]
  },
  {
   "cell_type": "code",
   "execution_count": 25,
   "id": "67121013-ecee-42a3-8f0b-8743d859a5ca",
   "metadata": {},
   "outputs": [
    {
     "data": {
      "text/plain": [
       "(array([1536.,    0.,    0.,    0.,   63.,  268.,  229.,    0.,  133.,\n",
       "           0., 1811.,    0.,  156.,  316.,    0.,  557.,  158.,    0.,\n",
       "           0., 3367.]),\n",
       " array([  0.,   5.,  10.,  15.,  20.,  25.,  30.,  35.,  40.,  45.,  50.,\n",
       "         55.,  60.,  65.,  70.,  75.,  80.,  85.,  90.,  95., 100.]),\n",
       " <BarContainer object of 20 artists>)"
      ]
     },
     "execution_count": 25,
     "metadata": {},
     "output_type": "execute_result"
    },
    {
     "data": {
      "image/png": "[encoded data removed]",
      "text/plain": [
       "<Figure size 640x480 with 1 Axes>"
      ]
     },
     "metadata": {},
     "output_type": "display_data"
    }
   ],
   "source": [
    "# plt.hist(df['detect_prop_15d'], bins= [0, 10, 20, 30, 40, 50, 60, 70, 80, 90, 100])\n",
    "plt.hist(df['detect_prop_15d'], bins = 20)"
   ]
  },
  {
   "cell_type": "code",
   "execution_count": 26,
   "id": "4d14acc5-5222-4b49-9743-679fa092e72c",
   "metadata": {},
   "outputs": [
    {
     "data": {
      "text/plain": [
       "(array([4225., 4313.,    0.,    0.,    0.,    0.,    0.,    0.,    0.,\n",
       "           0.,    0.,    0.,    0.,    0.,    0.,    0.,    0.,    0.,\n",
       "           0.,   58.]),\n",
       " array([  0.  ,  49.95,  99.9 , 149.85, 199.8 , 249.75, 299.7 , 349.65,\n",
       "        399.6 , 449.55, 499.5 , 549.45, 599.4 , 649.35, 699.3 , 749.25,\n",
       "        799.2 , 849.15, 899.1 , 949.05, 999.  ]),\n",
       " <BarContainer object of 20 artists>)"
      ]
     },
     "execution_count": 26,
     "metadata": {},
     "output_type": "execute_result"
    },
    {
     "data": {
      "image/png": "[encoded data removed]",
      "text/plain": [
       "<Figure size 640x480 with 1 Axes>"
      ]
     },
     "metadata": {},
     "output_type": "display_data"
    }
   ],
   "source": [
    "# plt.hist(df['percentile'], bins= [0, 10, 20, 30, 40, 50, 60, 70, 80, 90, 100])\n",
    "plt.hist(df['percentile'], bins= 20)"
   ]
  },
  {
   "cell_type": "code",
   "execution_count": 27,
   "id": "77de4276-07e3-46ce-a557-79e9fcc6d104",
   "metadata": {},
   "outputs": [
    {
     "data": {
      "text/html": [
       "<div>\n",
       "<style scoped>\n",
       "    .dataframe tbody tr th:only-of-type {\n",
       "        vertical-align: middle;\n",
       "    }\n",
       "\n",
       "    .dataframe tbody tr th {\n",
       "        vertical-align: top;\n",
       "    }\n",
       "\n",
       "    .dataframe thead th {\n",
       "        text-align: right;\n",
       "    }\n",
       "</style>\n",
       "<table border=\"1\" class=\"dataframe\">\n",
       "  <thead>\n",
       "    <tr style=\"text-align: right;\">\n",
       "      <th></th>\n",
       "      <th>reporting_jurisdiction</th>\n",
       "      <th>size</th>\n",
       "    </tr>\n",
       "  </thead>\n",
       "  <tbody>\n",
       "    <tr>\n",
       "      <th>0</th>\n",
       "      <td>New York</td>\n",
       "      <td>8642</td>\n",
       "    </tr>\n",
       "  </tbody>\n",
       "</table>\n",
       "</div>"
      ],
      "text/plain": [
       "  reporting_jurisdiction  size\n",
       "0               New York  8642"
      ]
     },
     "execution_count": 27,
     "metadata": {},
     "output_type": "execute_result"
    }
   ],
   "source": [
    "gb = df.groupby('reporting_jurisdiction', as_index=0).size()\n",
    "gb"
   ]
  },
  {
   "cell_type": "code",
   "execution_count": null,
   "id": "5dcb9598-84a8-46ed-9131-c5476e306b98",
   "metadata": {},
   "outputs": [],
   "source": []
  }
 ],
 "metadata": {
  "kernelspec": {
   "display_name": "Python 3 (ipykernel)",
   "language": "python",
   "name": "python3"
  },
  "language_info": {
   "codemirror_mode": {
    "name": "ipython",
    "version": 3
   },
   "file_extension": ".py",
   "mimetype": "text/x-python",
   "name": "python",
   "nbconvert_exporter": "python",
   "pygments_lexer": "ipython3",
   "version": "3.11.7"
  }
 },
 "nbformat": 4,
 "nbformat_minor": 5
}
